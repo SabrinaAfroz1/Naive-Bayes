{
 "cells": [
  {
   "cell_type": "markdown",
   "id": "8953f6dc",
   "metadata": {},
   "source": [
    "# Importing library"
   ]
  },
  {
   "cell_type": "code",
   "execution_count": 72,
   "id": "2ec204d2",
   "metadata": {},
   "outputs": [],
   "source": [
    "import math\n",
    "import random\n",
    "import csv\n",
    "import numpy as np\n",
    "import matplotlib.pyplot as plt\n",
    "import pandas as pd"
   ]
  },
  {
   "cell_type": "code",
   "execution_count": 73,
   "id": "d64f6a24",
   "metadata": {},
   "outputs": [
    {
     "data": {
      "text/html": [
       "<div>\n",
       "<style scoped>\n",
       "    .dataframe tbody tr th:only-of-type {\n",
       "        vertical-align: middle;\n",
       "    }\n",
       "\n",
       "    .dataframe tbody tr th {\n",
       "        vertical-align: top;\n",
       "    }\n",
       "\n",
       "    .dataframe thead th {\n",
       "        text-align: right;\n",
       "    }\n",
       "</style>\n",
       "<table border=\"1\" class=\"dataframe\">\n",
       "  <thead>\n",
       "    <tr style=\"text-align: right;\">\n",
       "      <th></th>\n",
       "      <th>Height</th>\n",
       "      <th>Weight</th>\n",
       "      <th>Foot Size</th>\n",
       "      <th>Person</th>\n",
       "    </tr>\n",
       "  </thead>\n",
       "  <tbody>\n",
       "    <tr>\n",
       "      <th>0</th>\n",
       "      <td>6.00</td>\n",
       "      <td>180</td>\n",
       "      <td>12</td>\n",
       "      <td>1</td>\n",
       "    </tr>\n",
       "    <tr>\n",
       "      <th>1</th>\n",
       "      <td>5.92</td>\n",
       "      <td>190</td>\n",
       "      <td>11</td>\n",
       "      <td>1</td>\n",
       "    </tr>\n",
       "    <tr>\n",
       "      <th>2</th>\n",
       "      <td>5.58</td>\n",
       "      <td>170</td>\n",
       "      <td>12</td>\n",
       "      <td>1</td>\n",
       "    </tr>\n",
       "    <tr>\n",
       "      <th>3</th>\n",
       "      <td>5.92</td>\n",
       "      <td>165</td>\n",
       "      <td>10</td>\n",
       "      <td>1</td>\n",
       "    </tr>\n",
       "    <tr>\n",
       "      <th>4</th>\n",
       "      <td>5.00</td>\n",
       "      <td>100</td>\n",
       "      <td>6</td>\n",
       "      <td>0</td>\n",
       "    </tr>\n",
       "    <tr>\n",
       "      <th>5</th>\n",
       "      <td>5.50</td>\n",
       "      <td>150</td>\n",
       "      <td>8</td>\n",
       "      <td>0</td>\n",
       "    </tr>\n",
       "    <tr>\n",
       "      <th>6</th>\n",
       "      <td>5.42</td>\n",
       "      <td>130</td>\n",
       "      <td>7</td>\n",
       "      <td>0</td>\n",
       "    </tr>\n",
       "    <tr>\n",
       "      <th>7</th>\n",
       "      <td>5.75</td>\n",
       "      <td>150</td>\n",
       "      <td>9</td>\n",
       "      <td>0</td>\n",
       "    </tr>\n",
       "  </tbody>\n",
       "</table>\n",
       "</div>"
      ],
      "text/plain": [
       "   Height  Weight  Foot Size  Person\n",
       "0    6.00     180         12       1\n",
       "1    5.92     190         11       1\n",
       "2    5.58     170         12       1\n",
       "3    5.92     165         10       1\n",
       "4    5.00     100          6       0\n",
       "5    5.50     150          8       0\n",
       "6    5.42     130          7       0\n",
       "7    5.75     150          9       0"
      ]
     },
     "execution_count": 73,
     "metadata": {},
     "output_type": "execute_result"
    }
   ],
   "source": [
    "mydata = pd.read_csv('Example02_Naive_Bayes.csv')\n",
    "from sklearn.preprocessing import LabelEncoder\n",
    "enc = LabelEncoder()\n",
    "enc.fit(mydata['Person'])\n",
    "mydata['Person'] = enc.transform(mydata['Person'])\n",
    "new_data=mydata\n",
    "new_data"
   ]
  },
  {
   "cell_type": "markdown",
   "id": "aebc9049",
   "metadata": {},
   "source": [
    "# the categorical class names are changed to numberic data, Male=0, Female=1"
   ]
  },
  {
   "cell_type": "code",
   "execution_count": 74,
   "id": "571d70ed",
   "metadata": {},
   "outputs": [],
   "source": [
    "def encode_class(mydata):\n",
    "    classes = []\n",
    "    for i in range(len(mydata)):\n",
    "        if mydata[i][-1] not in classes:\n",
    "            classes.append(mydata[i][-1])\n",
    "    for i in range(len(classes)):\n",
    "        for j in range(len(mydata)):\n",
    "            if mydata[j][-1] == classes[i]:\n",
    "                mydata[j][-1] = i\n",
    "    return mydata"
   ]
  },
  {
   "cell_type": "markdown",
   "id": "ebe6149b",
   "metadata": {},
   "source": [
    "# Splitting the data"
   ]
  },
  {
   "cell_type": "code",
   "execution_count": 75,
   "id": "f9724e58",
   "metadata": {},
   "outputs": [],
   "source": [
    "def splitting(mydata, ratio):\n",
    "    train_num = int(len(mydata) * ratio)\n",
    "    train = []\n",
    "    # initially testset will have all the dataset\n",
    "    test = list(mydata)\n",
    "    while len(train) < train_num:\n",
    "        # index generated randomly from range 0\n",
    "        # to length of testset\n",
    "        index = random.randrange(len(test))\n",
    "        train.append(test.pop(index))\n",
    "    return train, test\n",
    " "
   ]
  },
  {
   "cell_type": "markdown",
   "id": "8255b5fc",
   "metadata": {},
   "source": [
    "# Group the data rows under each class Male or Female"
   ]
  },
  {
   "cell_type": "code",
   "execution_count": 76,
   "id": "ac075363",
   "metadata": {},
   "outputs": [],
   "source": [
    "def groupUnderClass(mydata):\n",
    "      dict = {}\n",
    "      for i in range(len(mydata)):\n",
    "          if (mydata[i][-1] not in dict):\n",
    "              dict[mydata[i][-1]] = []\n",
    "          dict[mydata[i][-1]].append(mydata[i])\n",
    "      return dict\n",
    " "
   ]
  },
  {
   "cell_type": "markdown",
   "id": "7093d9fb",
   "metadata": {},
   "source": [
    "# Calculating Mean, Standard Deviation and Create Model"
   ]
  },
  {
   "cell_type": "code",
   "execution_count": 77,
   "id": "61a47b10",
   "metadata": {},
   "outputs": [],
   "source": [
    "# Calculating Mean\n",
    "def mean(numbers):\n",
    "    return sum(numbers) / float(len(numbers))\n",
    " \n",
    "# Calculating Standard Deviation\n",
    "def std_dev(numbers):\n",
    "    avg = mean(numbers)\n",
    "    variance = sum([pow(x - avg, 2) for x in numbers]) / float(len(numbers) - 1)\n",
    "    return math.sqrt(variance)\n",
    " \n",
    "def MeanAndStdDev(mydata):\n",
    "    info = [(mean(attribute), std_dev(attribute)) for attribute in zip(*mydata)]\n",
    "    # eg: list = [ [a, b, c], [m, n, o], [x, y, z]]\n",
    "    # here mean of 1st attribute =(a + m+x), mean of 2nd attribute = (b + n+y)/3\n",
    "    # delete summaries of last class\n",
    "    del info[-1]\n",
    "    return info\n",
    " \n",
    "# find Mean and Standard Deviation under each class\n",
    "def MeanAndStdDevForClass(mydata):\n",
    "    info = {}\n",
    "    dict = groupUnderClass(mydata)\n",
    "    for classValue, instances in dict.items():\n",
    "        info[classValue] = MeanAndStdDev(instances)\n",
    "    return info\n",
    " \n",
    " \n",
    "# Calculate Gaussian Probability Density Function\n",
    "def calculateGaussianProbability(x, mean, stdev):\n",
    "    expo = math.exp(-(math.pow(x - mean, 2) / (2 * math.pow(stdev, 2))))\n",
    "    return (1 / (math.sqrt(2 * math.pi) * stdev)) * expo\n",
    " \n",
    " \n",
    "# Calculate Class Probabilities\n",
    "def calculateClassProbabilities(info, test):\n",
    "    probabilities = {}\n",
    "    for classValue, classSummaries in info.items():\n",
    "        probabilities[classValue] = 1\n",
    "        for i in range(len(classSummaries)):\n",
    "            mean, std_dev = classSummaries[i]\n",
    "            x = test[i]\n",
    "            probabilities[classValue] *= calculateGaussianProbability(x, mean, std_dev)\n",
    "    return probabilities\n",
    " \n",
    " \n",
    "# Make prediction - highest probability is the prediction\n",
    "def predict(info, test):\n",
    "    probabilities = calculateClassProbabilities(info, test)\n",
    "    bestLabel, bestProb = None, -1\n",
    "    for classValue, probability in probabilities.items():\n",
    "        if bestLabel is None or probability > bestProb:\n",
    "            bestProb = probability\n",
    "            bestLabel = classValue\n",
    "    return bestLabel\n",
    " \n",
    " \n",
    "# returns predictions for a set of examples\n",
    "def getPredictions(info, test):\n",
    "    predictions = []\n",
    "    for i in range(len(test)):\n",
    "        result = predict(info, test[i])\n",
    "        predictions.append(result)\n",
    "    return predictions\n",
    " \n",
    "# Accuracy score\n",
    "def accuracy_rate(test, predictions):\n",
    "    correct = 0\n",
    "    for i in range(len(test)):\n",
    "        if test[i][-1] == predictions[i]:\n",
    "            correct += 1\n",
    "    return (correct / float(len(test))) * 100.0\n",
    " "
   ]
  },
  {
   "cell_type": "markdown",
   "id": "9e848456",
   "metadata": {},
   "source": [
    "# Convert Dataset in List"
   ]
  },
  {
   "cell_type": "code",
   "execution_count": 113,
   "id": "55d28ad8",
   "metadata": {},
   "outputs": [
    {
     "data": {
      "text/plain": [
       "[['6', '180', '12', 0],\n",
       " ['5.92', '190', '11', 0],\n",
       " ['5.58', '170', '12', 0],\n",
       " ['5.92', '165', '10', 0],\n",
       " ['5', '100', '6', 1],\n",
       " ['5.5', '150', '8', 1],\n",
       " ['5.42', '130', '7', 1],\n",
       " ['5.75', '150', '9', 1]]"
      ]
     },
     "execution_count": 113,
     "metadata": {},
     "output_type": "execute_result"
    }
   ],
   "source": [
    "mydata = csv.reader(open('Example02_Naive_Bayes 2.csv'))\n",
    "mydata = list(mydata)\n",
    "mydata = encode_class(mydata)\n",
    "\n",
    "mydata"
   ]
  },
  {
   "cell_type": "markdown",
   "id": "a8ab6068",
   "metadata": {},
   "source": [
    "# Find Accuracy"
   ]
  },
  {
   "cell_type": "code",
   "execution_count": 116,
   "id": "2c6840f4",
   "metadata": {},
   "outputs": [
    {
     "name": "stdout",
     "output_type": "stream",
     "text": [
      "Total number of examples are:  8\n",
      "Out of these, training examples are:  5\n",
      "Test examples are:  3\n",
      "Accuracy of your model is:  66.66666666666666\n"
     ]
    }
   ],
   "source": [
    "for i in range(len(mydata)):\n",
    "    mydata[i] = [float(x) for x in mydata[i]]\n",
    "     \n",
    "# split ratio = 0.7\n",
    "# 70% of data is training data and 30% is test data used for testing\n",
    "ratio = 0.7\n",
    "train_data, test_data = splitting(mydata, ratio)\n",
    "print('Total number of examples are: ', len(mydata))\n",
    "print('Out of these, training examples are: ', len(train_data))\n",
    "print(\"Test examples are: \", len(test_data))\n",
    " \n",
    "# prepare model\n",
    "info = MeanAndStdDevForClass(train_data)\n",
    " \n",
    "# test model\n",
    "predictions = getPredictions(info, test_data)\n",
    "accuracy = accuracy_rate(test_data, predictions)\n",
    "print(\"Accuracy of your model is: \", accuracy)"
   ]
  },
  {
   "cell_type": "code",
   "execution_count": 86,
   "id": "3ce0354c",
   "metadata": {},
   "outputs": [
    {
     "data": {
      "text/plain": [
       "[[5.58, 170.0, 12.0, 0.0],\n",
       " [6.0, 180.0, 12.0, 0.0],\n",
       " [5.0, 100.0, 6.0, 1.0],\n",
       " [5.92, 165.0, 10.0, 0.0],\n",
       " [5.42, 130.0, 7.0, 1.0]]"
      ]
     },
     "execution_count": 86,
     "metadata": {},
     "output_type": "execute_result"
    }
   ],
   "source": [
    "train_data"
   ]
  },
  {
   "cell_type": "code",
   "execution_count": 87,
   "id": "94a209e8",
   "metadata": {},
   "outputs": [
    {
     "data": {
      "text/plain": [
       "[[5.92, 190.0, 11.0, 0.0], [5.5, 150.0, 8.0, 1.0], [5.75, 150.0, 9.0, 1.0]]"
      ]
     },
     "execution_count": 87,
     "metadata": {},
     "output_type": "execute_result"
    }
   ],
   "source": [
    "test_data"
   ]
  },
  {
   "cell_type": "markdown",
   "id": "555aeafd",
   "metadata": {},
   "source": [
    "# Prediction "
   ]
  },
  {
   "cell_type": "code",
   "execution_count": 69,
   "id": "5882ff72",
   "metadata": {},
   "outputs": [
    {
     "data": {
      "text/plain": [
       "[[5.92, 165.0, 10.0, 0.0], [5.5, 150.0, 8.0, 1.0], [5.42, 130.0, 7.0, 1.0]]"
      ]
     },
     "execution_count": 69,
     "metadata": {},
     "output_type": "execute_result"
    }
   ],
   "source": [
    "test_data"
   ]
  },
  {
   "cell_type": "code",
   "execution_count": 70,
   "id": "0773cb88",
   "metadata": {},
   "outputs": [
    {
     "data": {
      "text/plain": [
       "[1.0, 1.0, 1.0]"
      ]
     },
     "execution_count": 70,
     "metadata": {},
     "output_type": "execute_result"
    }
   ],
   "source": [
    "predictions"
   ]
  },
  {
   "cell_type": "markdown",
   "id": "f66db7a8",
   "metadata": {},
   "source": [
    "# Prediction Manually"
   ]
  },
  {
   "cell_type": "code",
   "execution_count": 71,
   "id": "6296b5a4",
   "metadata": {},
   "outputs": [
    {
     "data": {
      "text/plain": [
       "[0.0]"
      ]
     },
     "execution_count": 71,
     "metadata": {},
     "output_type": "execute_result"
    }
   ],
   "source": [
    "# 4\t5.00\t100\t6\t0\n",
    "# 5\t5.50\t150\t8\t0\n",
    "# 6\t5.42\t130\t7\t0\n",
    "# 7\t5.75\t150\t9\t0\n",
    "\n",
    "test_data= [[6.0, 180.0, 12.0, 0.0]]\n",
    "info = MeanAndStdDevForClass(train_data)\n",
    "predictions = getPredictions(info, test_data)\n",
    "predictions"
   ]
  }
 ],
 "metadata": {
  "kernelspec": {
   "display_name": "Python 3 (ipykernel)",
   "language": "python",
   "name": "python3"
  },
  "language_info": {
   "codemirror_mode": {
    "name": "ipython",
    "version": 3
   },
   "file_extension": ".py",
   "mimetype": "text/x-python",
   "name": "python",
   "nbconvert_exporter": "python",
   "pygments_lexer": "ipython3",
   "version": "3.9.7"
  }
 },
 "nbformat": 4,
 "nbformat_minor": 5
}
